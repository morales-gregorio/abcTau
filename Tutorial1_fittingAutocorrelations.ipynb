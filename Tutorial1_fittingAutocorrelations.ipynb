{
 "cells": [
  {
   "cell_type": "markdown",
   "metadata": {},
   "source": [
    "# Tutorial 1: How to use abcTau package to fit autocorrelations or PSDs\n",
    "\n",
    "Details of the method are explained in:   \n",
    "Zeraati, R., Engel, T. A. & Levina, A. A flexible Bayesian framework for unbiased estimation of timescales Computations. bioRxiv 2020.08.11.245944 (2021). https://www.biorxiv.org/content/10.1101/2020.08.11.245944v2\n",
    "\n",
    "To start you need to have:\n",
    "Python >= 3.7.1,\n",
    "Numpy >= 1.15.4 ,\n",
    "Scipy >= 1.1.0. \n",
    "\n",
    "and for visualizations:\n",
    "Matplotlib >= 3.0.2,\n",
    "Seaborn >= 0.9.0 \n",
    "\n",
    "You can install seaborn from https://seaborn.pydata.org/installing.html "
   ]
  },
  {
   "cell_type": "code",
   "execution_count": 2,
   "metadata": {},
   "outputs": [],
   "source": [
    "import matplotlib.pyplot as plt\n",
    "%matplotlib inline\n",
    "import seaborn as sns # comment this line if you don't want to use seaborn for plots\n",
    "\n",
    "import numpy as np\n",
    "from scipy import stats\n",
    "\n",
    "# add the path to the abcTau package\n",
    "import sys\n",
    "sys.path.append('./abcTau')\n",
    "import abcTau\n",
    "\n",
    "\n",
    "# graphical properties for figures\n",
    "sns.set_context('talk',font_scale= 1.5)\n",
    "plt.rcParams[\"axes.edgecolor\"] = \"k\"\n",
    "plt.rcParams[\"axes.facecolor\"] = \"w\"\n",
    "plt.rcParams[\"axes.linewidth\"] = \"0.8\" \n",
    "plt.rcParams.update({'font.size': 12})"
   ]
  },
  {
   "cell_type": "markdown",
   "metadata": {},
   "source": [
    "# Step 1: Extracting required statistics from real data\n",
    "\n",
    "First load your data and use \"extract_stats\" functions to compute statistics."
   ]
  },
  {
   "cell_type": "code",
   "execution_count": 3,
   "metadata": {},
   "outputs": [],
   "source": [
    "#---------- load real data  (OU process with one timescale)\n",
    "dataload_path = 'example_data/'\n",
    "filename = 'OU_tau100_T1000_fs1000_trials500'\n",
    "data_load = np.load(dataload_path + filename + '.npy')\n",
    "\n",
    "#---------- extract statistics from real data\n",
    "# select summary statistics metric\n",
    "summStat_metric = 'comp_ac_fft'\n",
    "ifNorm = True # if normalize the autocorrelation or PSD\n",
    "deltaT = 1 # temporal resolution of data.\n",
    "binSize = 1 #  bin-size for binning data and computing the autocorrelation.\n",
    "disp = None # put the dispersion parameter if computed with grid-search\n",
    "maxTimeLag = 500 # only used when using autocorrelation for summary statistics\n",
    "lm = round(maxTimeLag/binSize) # maximum bin for autocorrelation computation\n",
    "data_ac, data_mean, data_var, T, numTrials = abcTau.preprocessing.extract_stats(data_load, deltaT, binSize,\\\n",
    "                                                                                  summStat_metric, ifNorm, maxTimeLag)"
   ]
  },
  {
   "cell_type": "markdown",
   "metadata": {},
   "source": [
    "# Step 2 (optional): Check the bias in timescales estimated from exponential fits (preprocessing module using parametric bootstrapping)"
   ]
  },
  {
   "cell_type": "code",
   "execution_count": 4,
   "metadata": {},
   "outputs": [
    {
     "name": "stdout",
     "output_type": "stream",
     "text": [
      "45% bootstrap-error\n",
      "The true error from the ground truth can be larger\n"
     ]
    },
    {
     "data": {
      "image/png": "[encoded data removed]",
      "text/plain": [
       "<Figure size 648x360 with 1 Axes>"
      ]
     },
     "metadata": {
      "needs_background": "light"
     },
     "output_type": "display_data"
    }
   ],
   "source": [
    "gt_tau = 100 # ground-truth timescale\n",
    "\n",
    "# fit \n",
    "popt, poptcov = abcTau.preprocessing.fit_oneTauExponential(data_ac, binSize, maxTimeLag)\n",
    "tau = popt[1]\n",
    "\n",
    "# check if estimated timescales with exponential fit are biased or not\n",
    "theta = np.array([tau])\n",
    "numTimescales = 1\n",
    "taus_bs, taus_bs_corr, err = abcTau.preprocessing.check_expEstimates(theta, deltaT, binSize, T, numTrials,\\\n",
    "                                                                     data_mean, data_var, maxTimeLag, numTimescales,\\\n",
    "                                                                     numIter = 100, plot_it = True)"
   ]
  },
  {
   "cell_type": "markdown",
   "metadata": {},
   "source": [
    "This result inidicates that the direct exponential fitting gives biased estimates with the current amount of data. We can use the aABC algorithm to get a more accurate estimation of timescales. aABC additionally provides the posterior distribution of timescales that we can use for model comparison (see Tutorial 2)"
   ]
  },
  {
   "cell_type": "markdown",
   "metadata": {},
   "source": [
    "# Step 3: Estimation of timescales using the aABC algorithm\n",
    "\n",
    "In the following, we explain how to customize your own Python script step-by-step such that it best fits your data and your desired generative model. We provided 3 different examples:\n",
    "1) Fitting one timescale in time domain\n",
    "2) Fitting one timescale in frequency domain\n",
    "3) Fitting two timescales in time domain\n",
    "\n",
    "The duration for fitting the generative model with the aABC algorithm depends on the size of your data, selected summary statistics (e.g., fastest is with the PSD), number of accepted samples in posteriors (min_samples), final selected accepatance rate (minAccRate), and computational resources (e.g., number of cores in parallel processing). Depending on these parameters the fitting duration is in between ~5-20 min (usually for fitting PSD as summary statistic and parallel processing, see Supplementary Table 1 in the paper for more details) up to ~4-8 hours (wihtout any parallel processing).\n",
    "\n",
    "\n",
    "\n",
    "### [1]  Fitting a general type of generative model in the time domain:\n",
    "This example takes about 2 hours to run on a normal computer without any parallel processing, using parallel computing (parallel = True) can speed up the fitting at least to half of this duration. You can check the provided example Python scripts for parallel processing.\n",
    "\n",
    "The following is the example in Fig. 3a.\n",
    "\n",
    "1) import the package and set the parameters for parallel processing (if applicable):"
   ]
  },
  {
   "cell_type": "code",
   "execution_count": 4,
   "metadata": {},
   "outputs": [],
   "source": [
    "# add the path to the abcTau package\n",
    "import sys\n",
    "sys.path.append('./abcTau')\n",
    "# import the package\n",
    "import abcTau \n",
    "import numpy as np\n",
    "from scipy import stats\n",
    "\n",
    "# stetting the number of cores for each numpy computation in multiprocessing\n",
    "# import os\n",
    "# os.environ[\"OMP_NUM_THREADS\"] = \"2\" \n",
    "# os.environ[\"OPENBLAS_NUM_THREADS\"] = \"2\" \n",
    "# os.environ[\"MKL_NUM_THREADS\"] = \"2\" \n",
    "# os.environ[\"VECLIB_MAXIMUM_THREADS\"] = \"2\" \n",
    "# os.environ[\"NUMEXPR_NUM_THREADS\"] = \"2\" "
   ]
  },
  {
   "cell_type": "markdown",
   "metadata": {},
   "source": [
    "2) Define the directories and filenames for loading the data and saving the results"
   ]
  },
  {
   "cell_type": "code",
   "execution_count": 5,
   "metadata": {},
   "outputs": [],
   "source": [
    "# path for loading and saving data\n",
    "datasave_path = 'example_abc_results/'\n",
    "dataload_path = 'example_data/'\n",
    "\n",
    "# path and filename to save the intermediate results after running each step\n",
    "inter_save_direc = 'example_abc_results/'\n",
    "inter_filename = 'abc_intermediate_results'\n",
    "\n",
    "# define filename for loading and saving the results\n",
    "filename = 'OU_tau20_mean0_var1_rawData'\n",
    "filenameSave = filename"
   ]
  },
  {
   "cell_type": "markdown",
   "metadata": {},
   "source": [
    "3) Load the real data and extract required statistics"
   ]
  },
  {
   "cell_type": "code",
   "execution_count": 6,
   "metadata": {},
   "outputs": [],
   "source": [
    "# load data time-series as a numpy array (numTrials * time-points)\n",
    "data_load = np.load(dataload_path + filename + '.npy')\n",
    "\n",
    "# select summary statistics metric\n",
    "summStat_metric = 'comp_ac_fft'\n",
    "ifNorm = True # if normalize the autocorrelation or PSD\n",
    "\n",
    "# extract statistics from real data\n",
    "deltaT = 1 # temporal resolution of data.\n",
    "binSize = 1 #  bin-size for binning data and computing the autocorrelation.\n",
    "disp = None # put the dispersion parameter if computed with grid-search\n",
    "maxTimeLag = 50 # only used when using autocorrelation for summary statistics\n",
    "data_sumStat, data_mean, data_var, T, numTrials =  abcTau.preprocessing.extract_stats(data_load, deltaT, binSize,\\\n",
    "                                                                                  summStat_metric, ifNorm, maxTimeLag)"
   ]
  },
  {
   "cell_type": "markdown",
   "metadata": {},
   "source": [
    "4) Define the prior distributions"
   ]
  },
  {
   "cell_type": "code",
   "execution_count": 7,
   "metadata": {},
   "outputs": [],
   "source": [
    "# Define a uniform prior distribution over the given range\n",
    "# for a uniform prior: stats.uniform(loc=x_min,scale=x_max-x_min)\n",
    "t_min = 0.0 # first timescale\n",
    "t_max = 100.0\n",
    "priorDist = [stats.uniform(loc= t_min, scale = t_max - t_min)]"
   ]
  },
  {
   "cell_type": "markdown",
   "metadata": {},
   "source": [
    "5) Select the desired generative model from the list of 'generative_models.py' and the distance function from 'diatance_functions.py'"
   ]
  },
  {
   "cell_type": "code",
   "execution_count": 8,
   "metadata": {},
   "outputs": [],
   "source": [
    "# select generative model and distance function\n",
    "generativeModel = 'oneTauOU'\n",
    "distFunc = 'linear_distance'"
   ]
  },
  {
   "cell_type": "markdown",
   "metadata": {},
   "source": [
    "6) Set the aABC fitting parameters"
   ]
  },
  {
   "cell_type": "code",
   "execution_count": 9,
   "metadata": {},
   "outputs": [],
   "source": [
    "# set fitting params\n",
    "epsilon_0 = 1  # initial error threshold\n",
    "min_samples = 100 # min samples from the posterior\n",
    "steps = 60 # max number of iterations\n",
    "minAccRate = 0.01 # minimum acceptance rate to stop the iterations\n",
    "parallel = False # if parallel processing\n",
    "n_procs = 1 # number of processor for parallel processing (set to 1 if there is no parallel processing)"
   ]
  },
  {
   "cell_type": "markdown",
   "metadata": {},
   "source": [
    "7) Create the model object: Just copy paste the following (this a general definition of the model object, but all parts including generative models, summary statistics computation or distance function can be replaced by your own functions. You can add your handmade functions inside respected modules: \"generative_models.py\", \"distance_functions.py\", \"summary_stats.py\")"
   ]
  },
  {
   "cell_type": "code",
   "execution_count": 10,
   "metadata": {},
   "outputs": [],
   "source": [
    "# creating model object\n",
    "class MyModel(abcTau.Model):\n",
    "\n",
    "    #This method initializes the model object.  \n",
    "    def __init__(self):\n",
    "        pass\n",
    "\n",
    "    # draw samples from the prior. \n",
    "    def draw_theta(self):\n",
    "        theta = []\n",
    "        for p in self.prior:\n",
    "            theta.append(p.rvs())\n",
    "        return theta\n",
    "\n",
    "    # Choose the generative model (from generative_models)\n",
    "    # Choose autocorrelation computation method (from basic_functions)\n",
    "    def generate_data(self, theta):\n",
    "        # generate synthetic data\n",
    "        if disp == None:\n",
    "            syn_data, numBinData =  eval('abcTau.generative_models.' + generativeModel + \\\n",
    "                                         '(theta, deltaT, binSize, T, numTrials, data_mean, data_var)')\n",
    "        else:\n",
    "            syn_data, numBinData =  eval('abcTau.generative_models.' + generativeModel + \\\n",
    "                                         '(theta, deltaT, binSize, T, numTrials, data_mean, data_var, disp)')\n",
    "               \n",
    "        # compute the summary statistics\n",
    "        syn_sumStat = abcTau.summary_stats.comp_sumStat(syn_data, summStat_metric, ifNorm, deltaT, binSize, T,\\\n",
    "                                          numBinData, maxTimeLag)   \n",
    "        return syn_sumStat\n",
    "\n",
    "    # Computes the summary statistics\n",
    "    def summary_stats(self, data):\n",
    "        sum_stat = data\n",
    "        return sum_stat\n",
    "\n",
    "    # Choose the method for computing distance (from basic_functions)\n",
    "    def distance_function(self, data, synth_data):\n",
    "        if np.nansum(synth_data) <= 0: # in case of all nans return large d to reject the sample\n",
    "            d = 10**4\n",
    "        else:\n",
    "            d = eval('abcTau.distance_functions.' +distFunc + '(data, synth_data)')        \n",
    "        return d"
   ]
  },
  {
   "cell_type": "markdown",
   "metadata": {},
   "source": [
    "8) Run the aABC algorithm and save the results"
   ]
  },
  {
   "cell_type": "code",
   "execution_count": 12,
   "metadata": {
    "scrolled": true
   },
   "outputs": [],
   "source": [
    "# fit with aABC algorithm for any generative model\n",
    "abc_results, final_step = abcTau.fit.fit_withABC(MyModel, data_sumStat, priorDist, inter_save_direc, inter_filename,\\\n",
    "                                                 datasave_path,filenameSave, epsilon_0, min_samples, \\\n",
    "                                                 steps, minAccRate, parallel, n_procs, disp)"
   ]
  },
  {
   "cell_type": "markdown",
   "metadata": {},
   "source": [
    "Done :) \n",
    "\n",
    "Just copy paste the content of all the above cells in a text file and rename it to \"scriptName.py\"\n",
    "\n",
    "Then, run it from terminal as: python scriptName.py"
   ]
  },
  {
   "cell_type": "markdown",
   "metadata": {},
   "source": [
    "### [2]  Fitting a general type of generative model in the frequency domain:\n",
    "\n",
    "Depending on your application you can also use the aABC method to extract timescales and other parameters from the frequency domain by fitting the sample power spectrum density (PSD).\n",
    "\n",
    "For this purpose, we use exactly the same script as for the time domain, and only replace the autocorrelation computation with PSD computation.\n",
    "\n",
    "### Attention! You should use exactly the same method for computing the PSD of real data and synthetic data!\n",
    "\n",
    "We have implemented a simple PSD estimation function in the abcTau package but depending on your application, you can replace it with any other method such as methods avaiable in Scipy: https://docs.scipy.org/doc/scipy/reference/generated/scipy.signal.welch.html\n",
    "\n",
    "However, the result of aABC algorithm generally does not depend on the choise of PSD computation method, as long as the same method is used for both real and synthetic data.\n",
    "\n",
    "This example takes about 1 hour and 20 min to run on a normal computer without any parallel processing, using parallel computing can speed up the fitting to a few minutes."
   ]
  },
  {
   "cell_type": "code",
   "execution_count": 1,
   "metadata": {
    "scrolled": true
   },
   "outputs": [],
   "source": [
    "# add the path to the abcTau package\n",
    "import sys\n",
    "sys.path.append('./abcTau')\n",
    "# import the package\n",
    "import abcTau \n",
    "import numpy as np\n",
    "from scipy import stats\n",
    "\n",
    "# stetting the number of cores for each numpy computation in multiprocessing\n",
    "# import os\n",
    "# os.environ[\"OMP_NUM_THREADS\"] = \"2\" \n",
    "# os.environ[\"OPENBLAS_NUM_THREADS\"] = \"2\" \n",
    "# os.environ[\"MKL_NUM_THREADS\"] = \"2\" \n",
    "# os.environ[\"VECLIB_MAXIMUM_THREADS\"] = \"2\" \n",
    "# os.environ[\"NUMEXPR_NUM_THREADS\"] = \"2\" \n",
    "    \n",
    "    \n",
    "# path for loading and saving data\n",
    "datasave_path = 'example_abc_results/'\n",
    "dataload_path = 'example_data/'\n",
    "\n",
    "# path and filename to save the intermediate results after running each step\n",
    "inter_save_direc = 'example_abc_results/'\n",
    "inter_filename = 'abc_intermediate_results_psd'\n",
    "\n",
    "# load real data and define filenameSave\n",
    "filename = 'OU_tau20_mean0_var1_rawData'\n",
    "filenameSave = filename\n",
    "print(filename)\n",
    "data_load = np.load(dataload_path + filename + '.npy')\n",
    "\n",
    "# load data time-series as a numpy array (numTrials * time-points)\n",
    "data_load = np.load(dataload_path + filename + '.npy')\n",
    "\n",
    "# select summary statistics metric\n",
    "summStat_metric = 'comp_psd'\n",
    "ifNorm = True # if normalize the autocorrelation or PSD\n",
    "\n",
    "# extract statistics from real data\n",
    "deltaT = 1 # temporal resolution of data.\n",
    "binSize = 1 #  bin-size for binning data and computing the autocorrelation.\n",
    "disp = None # put the dispersion parameter if computed with grid-search\n",
    "maxTimeLag = None # only used when suing autocorrelation for summary statistics\n",
    "data_sumStat, data_mean, data_var, T, numTrials =  abcTau.preprocessing.extract_stats(data_load, deltaT, binSize,\\\n",
    "                                                                                  summStat_metric, ifNorm, maxTimeLag)\n",
    "\n",
    "\n",
    "\n",
    "# Define the prior distribution\n",
    "# for a uniform prior: stats.uniform(loc=x_min,scale=x_max-x_min)\n",
    "t_min = 0.0 # first timescale\n",
    "t_max = 100.0\n",
    "priorDist = [stats.uniform(loc= t_min, scale = t_max - t_min)]\n",
    "\n",
    "\n",
    "# select generative model and distance function\n",
    "generativeModel = 'oneTauOU'\n",
    "distFunc = 'logarithmic_distance'\n",
    "\n",
    "\n",
    "# set fitting params\n",
    "epsilon_0 = 1  # initial error threshold\n",
    "min_samples = 100 # min samples from the posterior\n",
    "steps = 60 # max number of iterations\n",
    "minAccRate = 0.01 # minimum acceptance rate to stop the iterations\n",
    "parallel = False # if parallel processing\n",
    "n_procs = 1 # number of processor for parallel processing (set to 1 if there is no parallel processing)\n",
    "\n",
    "\n",
    "# creating model object\n",
    "class MyModel(abcTau.Model):\n",
    "\n",
    "    #This method initializes the model object.  \n",
    "    def __init__(self):\n",
    "        pass\n",
    "\n",
    "    # draw samples from the prior. \n",
    "    def draw_theta(self):\n",
    "        theta = []\n",
    "        for p in self.prior:\n",
    "            theta.append(p.rvs())\n",
    "        return theta\n",
    "\n",
    "    # Choose the generative model (from generative_models)\n",
    "    # Choose autocorrelation computation method (from basic_functions)\n",
    "    def generate_data(self, theta):\n",
    "        # generate synthetic data\n",
    "        if disp == None:\n",
    "            syn_data, numBinData =  eval('abcTau.generative_models.' + generativeModel + \\\n",
    "                                         '(theta, deltaT, binSize, T, numTrials, data_mean, data_var)')\n",
    "        else:\n",
    "            syn_data, numBinData =  eval('abcTau.generative_models.' + generativeModel + \\\n",
    "                                         '(theta, deltaT, binSize, T, numTrials, data_mean, data_var, disp)')\n",
    "               \n",
    "        # compute the summary statistics\n",
    "        syn_sumStat = abcTau.summary_stats.comp_sumStat(syn_data, summStat_metric, ifNorm, deltaT, binSize, T,\\\n",
    "                                          numBinData, maxTimeLag)   \n",
    "        return syn_sumStat\n",
    "\n",
    "    # Computes the summary statistics\n",
    "    def summary_stats(self, data):\n",
    "        sum_stat = data\n",
    "        return sum_stat\n",
    "\n",
    "    # Choose the method for computing distance (from basic_functions)\n",
    "    def distance_function(self, data, synth_data):\n",
    "        if np.nansum(synth_data) <= 0: # in case of all nans return large d to reject the sample\n",
    "            d = 10**4\n",
    "        else:\n",
    "            d = eval('abcTau.distance_functions.' +distFunc + '(data, synth_data)')        \n",
    "        return d\n",
    "\n",
    "\n",
    "# fit with aABC algorithm for any generative model\n",
    "abc_results, final_step = abcTau.fit.fit_withABC(MyModel, data_sumStat, priorDist, inter_save_direc, inter_filename,\\\n",
    "                                                 datasave_path,filenameSave, epsilon_0, min_samples, \\\n",
    "                                                 steps, minAccRate, parallel, n_procs, disp)"
   ]
  },
  {
   "cell_type": "markdown",
   "metadata": {},
   "source": [
    "### [3] Fitting the specific case of a two-timescales generative model in the time domain:\n",
    "\n",
    "We developed a bit different function for fitting the two-timescales generative models to help them converge faster. While you always can use the above script for all models, the following options might help to speed up the fitting when your model have two timescales.\n",
    "\n",
    "The following is the example in Fig. 3c.\n",
    "\n",
    "1) define directories and prepare the model object same as above:"
   ]
  },
  {
   "cell_type": "code",
   "execution_count": 1,
   "metadata": {},
   "outputs": [
    {
     "name": "stdout",
     "output_type": "stream",
     "text": [
      "inhomPois_tau5_80_coeff04_T1000_trials500_deltaT1_data_mean1_data_var1.25\n"
     ]
    }
   ],
   "source": [
    "# add the path to the abcTau package\n",
    "import sys\n",
    "sys.path.append('./abcTau')\n",
    "# import the package\n",
    "import abcTau \n",
    "import numpy as np\n",
    "from scipy import stats\n",
    "\n",
    "# stetting the number of cores for each numpy computation in multiprocessing\n",
    "# import os\n",
    "# os.environ[\"OMP_NUM_THREADS\"] = \"2\" \n",
    "# os.environ[\"OPENBLAS_NUM_THREADS\"] = \"2\" \n",
    "# os.environ[\"MKL_NUM_THREADS\"] = \"2\" \n",
    "# os.environ[\"VECLIB_MAXIMUM_THREADS\"] = \"2\" \n",
    "# os.environ[\"NUMEXPR_NUM_THREADS\"] = \"2\" \n",
    "    \n",
    "    \n",
    "# path for loading and saving data\n",
    "datasave_path = 'example_abc_results/'\n",
    "dataload_path = 'example_data/'\n",
    "\n",
    "# path and filename to save the intermediate results after running each step\n",
    "inter_save_direc = 'example_abc_results/'\n",
    "inter_filename = 'abc_intermediate_results'\n",
    "\n",
    "\n",
    "# Define the prior distribution\n",
    "# for a uniform prior: stats.uniform(loc=x_min,scale=x_max-x_min)\n",
    "t1_min = 0.0 # first timescale\n",
    "t1_max = 60.0\n",
    "t2_min = 20.0 # second timescale\n",
    "t2_max = 140.0\n",
    "coef_min = 0.0 # coeffiecient or weight of the first timescale\n",
    "coef_max = 1.0\n",
    "priorDist = [stats.uniform(loc= t1_min, scale = t1_max - t1_min),\\\n",
    "             stats.uniform(loc= t2_min, scale = t2_max - t2_min),\\\n",
    "             stats.uniform(loc= coef_min, scale = coef_max - coef_min)] \n",
    "\n",
    "\n",
    "# select generative model and distance function\n",
    "generativeModel = 'twoTauOU_poissonSpikes'\n",
    "distFunc = 'linear_distance'\n",
    "\n",
    "\n",
    "# load real data and define filenameSave\n",
    "filename = 'inhomPois_tau5_80_coeff04_T1000_trials500_deltaT1_data_mean1_data_var1.25'\n",
    "filenameSave = filename\n",
    "print(filename)\n",
    "data_load = np.load(dataload_path + filename + '.npy')\n",
    "\n",
    "# select summary statistics metric\n",
    "summStat_metric = 'comp_ac_fft'\n",
    "ifNorm = True # if normalize the autocorrelation or PSD\n",
    "\n",
    "# extract statistics from real data\n",
    "deltaT = 1 # temporal resolution of data.\n",
    "binSize = 1 #  bin-size for binning data and computing the autocorrelation.\n",
    "disp = None # put the dispersion parameter if computed with grid-search\n",
    "maxTimeLag = 110 # only used when suing autocorrelation for summary statistics\n",
    "data_sumStat, data_mean, data_var, T, numTrials =  abcTau.preprocessing.extract_stats(data_load, deltaT, binSize,\\\n",
    "                                                                                  summStat_metric, ifNorm, maxTimeLag)\n",
    "\n",
    "\n",
    "\n",
    "# set fitting params\n",
    "epsilon_0 = 1  # initial error threshold\n",
    "min_samples = 100 # min samples from the posterior\n",
    "steps = 60 # max number of iterations\n",
    "minAccRate = 0.01 # minimum acceptance rate to stop the iterations\n",
    "parallel = False # if parallel processing\n",
    "n_procs = 1 # number of processor for parallel processing (set to 1 if there is no parallel processing)\n",
    "\n",
    "\n",
    "# creating model object\n",
    "class MyModel(abcTau.Model):\n",
    "\n",
    "    #This method initializes the model object.  \n",
    "    def __init__(self):\n",
    "        pass\n",
    "\n",
    "    # draw samples from the prior. \n",
    "    def draw_theta(self):\n",
    "        theta = []\n",
    "        for p in self.prior:\n",
    "            theta.append(p.rvs())\n",
    "        return theta\n",
    "\n",
    "    # Choose the generative model (from generative_models)\n",
    "    # Choose autocorrelation computation method (from basic_functions)\n",
    "    def generate_data(self, theta):\n",
    "        # generate synthetic data\n",
    "        if disp == None:\n",
    "            syn_data, numBinData =  eval('abcTau.generative_models.' + generativeModel + \\\n",
    "                                         '(theta, deltaT, binSize, T, numTrials, data_mean, data_var)')\n",
    "        else:\n",
    "            syn_data, numBinData =  eval('abcTau.generative_models.' + generativeModel + \\\n",
    "                                         '(theta, deltaT, binSize, T, numTrials, data_mean, data_var, disp)')\n",
    "               \n",
    "        # compute the summary statistics\n",
    "        syn_sumStat = abcTau.summary_stats.comp_sumStat(syn_data, summStat_metric, ifNorm, deltaT, binSize, T,\\\n",
    "                                          numBinData, maxTimeLag)   \n",
    "        return syn_sumStat\n",
    "\n",
    "    # Computes the summary statistics\n",
    "    def summary_stats(self, data):\n",
    "        sum_stat = data\n",
    "        return sum_stat\n",
    "\n",
    "    # Choose the method for computing distance (from basic_functions)\n",
    "    def distance_function(self, data, synth_data):\n",
    "        if np.nansum(synth_data) <= 0: # in case of all nans return large d to reject the sample\n",
    "            d = 10**4\n",
    "        else:\n",
    "            d = eval('abcTau.distance_functions.' +distFunc + '(data, synth_data)')        \n",
    "        return d"
   ]
  },
  {
   "cell_type": "markdown",
   "metadata": {},
   "source": [
    "2) But instead use the following function for fitting:"
   ]
  },
  {
   "cell_type": "code",
   "execution_count": 2,
   "metadata": {
    "scrolled": true
   },
   "outputs": [],
   "source": [
    "# fit with aABC algorithm for the two-timescales generative model\n",
    "abc_results, final_step = abcTau.fit.fit_withABC_2Tau(MyModel, data_sumStat, priorDist, inter_save_direc,\\\n",
    "                                                      inter_filename,\\\n",
    "                                                 datasave_path,filenameSave, epsilon_0, min_samples, \\\n",
    "                                                 steps, minAccRate, parallel, n_procs, disp)"
   ]
  },
  {
   "cell_type": "markdown",
   "metadata": {},
   "source": [
    "# Resuming a previous aABC fit and let it run for more iterations \n",
    "\n",
    "It's possible to resume a previous fit with the aABC method and allow it to run from the point it stopped. This functionality is useful when the initial stopping criterion (e.g., minimum acceptance rate) was not sufficient to obtain narrow posteriors and you need better statistics for the fits without running the aABC fit from the beginning."
   ]
  },
  {
   "cell_type": "code",
   "execution_count": 1,
   "metadata": {},
   "outputs": [
    {
     "name": "stdout",
     "output_type": "stream",
     "text": [
      "OU_tau20_T1000_trials500_deltaT1_data_mean0_data_var1\n"
     ]
    }
   ],
   "source": [
    "# add the path to the abcTau package\n",
    "import sys\n",
    "sys.path.append('./abcTau')\n",
    "# import the package\n",
    "import abcTau \n",
    "import numpy as np\n",
    "from scipy import stats\n",
    "# stetting the number of cores for each numpy computation in multiprocessing\n",
    "# import os\n",
    "# os.environ[\"OMP_NUM_THREADS\"] = \"2\" \n",
    "# os.environ[\"OPENBLAS_NUM_THREADS\"] = \"2\"\n",
    "# os.environ[\"MKL_NUM_THREADS\"] = \"2\" \n",
    "# os.environ[\"VECLIB_MAXIMUM_THREADS\"] = \"2\"\n",
    "# os.environ[\"NUMEXPR_NUM_THREADS\"] = \"2\"\n",
    "    \n",
    "    \n",
    "# path for loading and saving data\n",
    "datasave_path = 'example_abc_results/'\n",
    "dataload_path = 'example_data/'\n",
    "\n",
    "# path and filename to save the intermediate results after running each step\n",
    "inter_save_direc = 'example_abc_results/'\n",
    "inter_filename = 'abc_intermediate_results'\n",
    "\n",
    "# load real data and define filenameSave\n",
    "filename = 'OU_tau20_T1000_trials500_deltaT1_data_mean0_data_var1'\n",
    "filenameSave = filename\n",
    "print(filename)\n",
    "data_load = np.load(dataload_path + filename + '.npy')\n",
    "\n",
    "# select summary statistics metric\n",
    "summStat_metric = 'comp_ac_fft'\n",
    "ifNorm = True # if normalize the autocorrelation or PSD\n",
    "\n",
    "# extract statistics from real data\n",
    "deltaT = 1 # temporal resolution of data.\n",
    "binSize = 1 #  bin-size for binning data and computing the autocorrelation.\n",
    "disp = None # put the dispersion parameter if computed with grid-search\n",
    "maxTimeLag = 50 # only used when suing autocorrelation for summary statistics\n",
    "data_sumStat, data_mean, data_var, T, numTrials =  abcTau.preprocessing.extract_stats(data_load, deltaT, binSize,\\\n",
    "                                                                                  summStat_metric, ifNorm, maxTimeLag)\n",
    "\n",
    "\n",
    "# Define the prior distribution\n",
    "# for a uniform prior: stats.uniform(loc=x_min,scale=x_max-x_min)\n",
    "t_min = 0.0 # first timescale\n",
    "t_max = 100.0\n",
    "priorDist = [stats.uniform(loc= t_min, scale = t_max - t_min)]\n",
    "\n",
    "\n",
    "# select generative model and distance function\n",
    "generativeModel = 'oneTauOU'\n",
    "distFunc = 'linear_distance'\n",
    "\n",
    "\n",
    "# creating model object\n",
    "class MyModel(abcTau.Model):\n",
    "\n",
    "    #This method initializes the model object.  \n",
    "    def __init__(self):\n",
    "        pass\n",
    "\n",
    "    # draw samples from the prior. \n",
    "    def draw_theta(self):\n",
    "        theta = []\n",
    "        for p in self.prior:\n",
    "            theta.append(p.rvs())\n",
    "        return theta\n",
    "\n",
    "    # Choose the generative model (from generative_models)\n",
    "    # Choose autocorrelation computation method (from basic_functions)\n",
    "    def generate_data(self, theta):\n",
    "        # generate synthetic data\n",
    "        if disp == None:\n",
    "            syn_data, numBinData =  eval('abcTau.generative_models.' + generativeModel + \\\n",
    "                                         '(theta, deltaT, binSize, T, numTrials, data_mean, data_var)')\n",
    "        else:\n",
    "            syn_data, numBinData =  eval('abcTau.generative_models.' + generativeModel + \\\n",
    "                                         '(theta, deltaT, binSize, T, numTrials, data_mean, data_var, disp)')\n",
    "               \n",
    "        # compute the summary statistics\n",
    "        syn_sumStat = abcTau.summary_stats.comp_sumStat(syn_data, summStat_metric, ifNorm, deltaT, binSize, T,\\\n",
    "                                          numBinData, maxTimeLag)   \n",
    "        return syn_sumStat\n",
    "\n",
    "    # Computes the summary statistics\n",
    "    def summary_stats(self, data):\n",
    "        sum_stat = data\n",
    "        return sum_stat\n",
    "\n",
    "    # Choose the method for computing distance (from basic_functions)\n",
    "    def distance_function(self, data, synth_data):\n",
    "        if np.nansum(synth_data) <= 0: # in case of all nans return large d to reject the sample\n",
    "            d = 10**4\n",
    "        else:\n",
    "            d = eval('abcTau.distance_functions.' +distFunc + '(data, synth_data)')        \n",
    "        return d"
   ]
  },
  {
   "cell_type": "code",
   "execution_count": 3,
   "metadata": {},
   "outputs": [],
   "source": [
    "# load the previous aABC fit\n",
    "data_abc_path = 'example_abc_results/'\n",
    "filename = '1on_OU_tau20_T1000_lag50_steps43'\n",
    "abc_results = np.load(data_abc_path + filename + '.npy', allow_pickle=True)\n",
    "ind = filename.find('steps') \n",
    "final_step = int(filename[ind+5] + filename[ind+6])\n",
    "abc_results_old = abc_results[:final_step]\n",
    "\n",
    "# set new fitting params\n",
    "epsilon_0 = 1  # initial error threshold\n",
    "min_samples = 100 # min samples from the posterior\n",
    "steps = 60 # max number of iterations\n",
    "minAccRate = 0.005 # new minimum acceptance rate to stop the iterations\n",
    "parallel = False # if parallel processing\n",
    "n_procs = 1 # number of processor for parallel processing (set to 1 if there is no parallel processing)"
   ]
  },
  {
   "cell_type": "code",
   "execution_count": 9,
   "metadata": {
    "scrolled": true
   },
   "outputs": [],
   "source": [
    "# resume the aABC fitting\n",
    "abc_results, final_step = abcTau.fit.fit_withABC(MyModel, data_sumStat, priorDist, inter_save_direc,\\\n",
    "                                                             inter_filename,\\\n",
    "                                                 datasave_path,filenameSave, epsilon_0, min_samples, \\\n",
    "                                                 steps, minAccRate, parallel, n_procs, disp, resume = abc_results_old)"
   ]
  },
  {
   "cell_type": "code",
   "execution_count": null,
   "metadata": {},
   "outputs": [],
   "source": []
  }
 ],
 "metadata": {
  "kernelspec": {
   "display_name": "Python 3",
   "language": "python",
   "name": "python3"
  },
  "language_info": {
   "codemirror_mode": {
    "name": "ipython",
    "version": 3
   },
   "file_extension": ".py",
   "mimetype": "text/x-python",
   "name": "python",
   "nbconvert_exporter": "python",
   "pygments_lexer": "ipython3",
   "version": "3.7.1"
  }
 },
 "nbformat": 4,
 "nbformat_minor": 2
}
